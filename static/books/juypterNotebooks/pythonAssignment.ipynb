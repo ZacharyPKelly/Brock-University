{
 "cells": [
  {
   "cell_type": "markdown",
   "id": "4a35069d-9ac0-44ac-9baf-5eb5073ddc10",
   "metadata": {},
   "source": [
    "### **Question One**\n",
    "\n",
    "Write a method to calculate the area of a circle when given its radius. Use $\\pi$ rounded to three digits (3.142)."
   ]
  },
  {
   "cell_type": "code",
   "execution_count": 1,
   "id": "9afead01-7cf8-4d27-acfc-5b903a6445d8",
   "metadata": {
    "tags": []
   },
   "outputs": [
    {
     "name": "stdout",
     "output_type": "stream",
     "text": [
      "Area of a circle with a radius equal to 5 is 78.55\n"
     ]
    }
   ],
   "source": [
    "#Question One\n",
    "\n",
    "def findArea(r):\n",
    "    \n",
    "    pi = 3.142\n",
    "    \n",
    "    area = pi * (r * r)\n",
    "    \n",
    "    print(\"Area of a circle with a radius equal to {} is {}\".format(r, area))\n",
    "\n",
    "findArea(5)\n",
    "    "
   ]
  },
  {
   "cell_type": "markdown",
   "id": "a672444d-21f3-4ff5-a9d0-57ef2b3ede8d",
   "metadata": {},
   "source": [
    "### **Question Two**\n",
    "\n",
    "Use the ord() method to write a function that returns the ascii value of a given character."
   ]
  },
  {
   "cell_type": "code",
   "execution_count": 2,
   "id": "71f91129-e8eb-4b14-957f-fc64572112cb",
   "metadata": {
    "tags": []
   },
   "outputs": [
    {
     "name": "stdout",
     "output_type": "stream",
     "text": [
      "The Ascii value of c is 99\n"
     ]
    }
   ],
   "source": [
    "#Question Two\n",
    "\n",
    "def findAscii(character):\n",
    "    \n",
    "    print(\"The Ascii value of {} is {}\".format(character, ord(character)))\n",
    "    \n",
    "findAscii('c')"
   ]
  },
  {
   "cell_type": "markdown",
   "id": "cfb2e708-2467-472e-b31b-b021cf1f3e3b",
   "metadata": {},
   "source": [
    "### **Question Three**\n",
    "\n",
    "Given a positive integer N, find the sum of the squares up of the natural numbers up to and including N.\n",
    "\n",
    "Example: When N = 5, the sum of the squares will be $1^2$ + $2^2$ + $3^2$ + $4^2$ + $5^2$ $= 1 + 4 + 9 + 16 + 25 = 55$"
   ]
  },
  {
   "cell_type": "code",
   "execution_count": 3,
   "id": "977bcfd2-9e02-4fa4-9500-08efa0343bff",
   "metadata": {
    "tags": []
   },
   "outputs": [
    {
     "name": "stdout",
     "output_type": "stream",
     "text": [
      "The sum of squares up to (and including) 6 is 91\n"
     ]
    }
   ],
   "source": [
    "#Question Three\n",
    "\n",
    "def sumOfSquares(n):\n",
    "    \n",
    "    sum = 0\n",
    "    \n",
    "    for i in range(1, n+1):\n",
    "        \n",
    "        x = i * i\n",
    "        sum = sum + x\n",
    "    \n",
    "    print(\"The sum of squares up to (and including) {} is {}\".format(n, sum))\n",
    "    \n",
    "sumOfSquares(6)"
   ]
  },
  {
   "cell_type": "markdown",
   "id": "758fe6b3-b0f4-42db-bcc1-0692813aec5c",
   "metadata": {},
   "source": [
    "### **Question Four**\n",
    "\n",
    "Given a list of integers, determine which elements are negative and print them. If no elements are negative then print a message stating so. Be sure to check the empty list!\n",
    "\n",
    "Example Lists:&nbsp;&nbsp;&nbsp;&nbsp;&nbsp;[1, 2, 3, 4, 5]&nbsp;&nbsp;&nbsp;&nbsp;&nbsp;[-1, 2, -3, 4, -5]&nbsp;&nbsp;&nbsp;&nbsp;&nbsp;[0, -19854, 2342, 1246, -19203]"
   ]
  },
  {
   "cell_type": "code",
   "execution_count": 4,
   "id": "6244f2b1-277f-4013-995c-e60ea43a15a9",
   "metadata": {
    "tags": []
   },
   "outputs": [
    {
     "name": "stdout",
     "output_type": "stream",
     "text": [
      "All the elements of the given list were positive\n",
      "-1 -3 -5 \n",
      "-19854 -19203 \n",
      "There are no elements in this list\n"
     ]
    }
   ],
   "source": [
    "#Question Three\n",
    "\n",
    "def findNegatives(integerList):\n",
    "    \n",
    "    if len(integerList) == 0:\n",
    "        \n",
    "        print(\"There are no elements in this list\")\n",
    "        return\n",
    "    \n",
    "    negativeCheck = 0\n",
    "    \n",
    "    for num in integerList:\n",
    "        \n",
    "        if num < 0:\n",
    "            \n",
    "            print(\"{} \".format(num), end='')\n",
    "            negativeCheck = negativeCheck + 1\n",
    "    \n",
    "    if negativeCheck < 1:\n",
    "        \n",
    "        print(\"All the elements of the given list were positive\")\n",
    "    \n",
    "    else:\n",
    "        \n",
    "        print()\n",
    "\n",
    "list1 = [1, 2, 3, 4, 5]\n",
    "list2 = [-1, 2, -3, 4, -5]\n",
    "list3 = [0, -19854, 2342, 1246, -19203]\n",
    "list4 = []\n",
    "\n",
    "findNegatives(list1)\n",
    "findNegatives(list2)\n",
    "findNegatives(list3)\n",
    "findNegatives(list4)"
   ]
  },
  {
   "cell_type": "markdown",
   "id": "ba939d40-4c5f-41fd-bd94-0216e7995d0c",
   "metadata": {},
   "source": [
    "### **Question Five**\n",
    "\n",
    "Without using any built-in methods, remove the letters from a string from a given index.\n",
    "\n",
    "String: \"I am a string to have characters removed\""
   ]
  },
  {
   "cell_type": "code",
   "execution_count": 5,
   "id": "fc58192a-cb35-45e9-8dfc-81b8c0dbf89b",
   "metadata": {
    "tags": []
   },
   "outputs": [
    {
     "name": "stdout",
     "output_type": "stream",
     "text": [
      "The new string after removing the character at index 5 is: I am  string to have characters removed\n"
     ]
    }
   ],
   "source": [
    "#Question Five\n",
    "\n",
    "def removeFromString(index, string):\n",
    "    \n",
    "    newString = \"\"\n",
    "    \n",
    "    if index > len(string) - 1:\n",
    "            \n",
    "            print(\"This index is out of bounds!\")\n",
    "            \n",
    "            return\n",
    "    \n",
    "    for i in range(len(string)):\n",
    "        \n",
    "        if i != index:\n",
    "            \n",
    "            newString = newString + string[i]\n",
    "\n",
    "    print(\"The new string after removing the character at index {} is: {}\".format(index, newString))\n",
    "\n",
    "givenString = \"I am a string to have characters removed\"\n",
    "    \n",
    "removeFromString(5, givenString)\n",
    "    "
   ]
  }
 ],
 "metadata": {
  "kernelspec": {
   "display_name": "Python 3 (ipykernel)",
   "language": "python",
   "name": "python3"
  },
  "language_info": {
   "codemirror_mode": {
    "name": "ipython",
    "version": 3
   },
   "file_extension": ".py",
   "mimetype": "text/x-python",
   "name": "python",
   "nbconvert_exporter": "python",
   "pygments_lexer": "ipython3",
   "version": "3.9.2"
  }
 },
 "nbformat": 4,
 "nbformat_minor": 5
}
