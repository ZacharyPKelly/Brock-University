{
 "cells": [
  {
   "cell_type": "markdown",
   "id": "e4662f56-42e4-41fa-983e-ca9ced084955",
   "metadata": {},
   "source": [
    "# **Python Lists**\n",
    "\n",
    "Note: This is a copy of the GeeksforGeeks tutorial on Python lists as a Jupyter Notebook. All information contained can be found here: https://www.geeksforgeeks.org/python-lists/?ref=lbp\n",
    "\n",
    "**Python Lists** are just like dynamically sized arrays, declared in other languages (vector in C++ and ArrayList in Java). In simple language, a list is a collection of things, enclosed in [ ] and separated by commas.\n",
    "\n",
    "&nbsp;&nbsp;&nbsp;&nbsp;&nbsp;&nbsp;*The list is a sequence data type which is used to store the collection of data. Tuples and String are other types of sequence data types*"
   ]
  },
  {
   "cell_type": "markdown",
   "id": "a5b5821d-b452-4c96-b9d0-47163ffd199f",
   "metadata": {},
   "source": [
    "## **Example of list in Python**\n",
    "\n",
    "Here we are creating Python **List** using []."
   ]
  },
  {
   "cell_type": "code",
   "execution_count": 1,
   "id": "9895290b-ae81-4b62-a06a-46e911e92c76",
   "metadata": {
    "tags": []
   },
   "outputs": [
    {
     "name": "stdout",
     "output_type": "stream",
     "text": [
      "Output:\n",
      "\n",
      "['Geeks', 'for', 'Geeks']\n"
     ]
    }
   ],
   "source": [
    "Var = [\"Geeks\", \"for\", \"Geeks\"]\n",
    "print(\"Output:\\n\")\n",
    "print(Var)"
   ]
  },
  {
   "cell_type": "markdown",
   "id": "76575509-f21a-4d24-a7bc-7d75ddcaf9ac",
   "metadata": {},
   "source": [
    "Lists are the simplest containers that are an integral part of the Python language. Lists need not be homogeneous always which makes it the most powerful tool in Python. A single list may contain DataTypes like Integers, Strings, as well as Objects. Lists are mutable, and hence, they can be altered even after their creation."
   ]
  },
  {
   "cell_type": "markdown",
   "id": "aead1be2-5ca1-4512-9eb8-c6f8a02606d9",
   "metadata": {},
   "source": [
    "<h2 style=\"text-align: center;\"><b>Creating a List in Python</b></h2>\n",
    "Lists in Python can be created by just placing the sequence inside the square brackets[]. Unlike Sets, a list doesn’t need a built-in function for its creation of a list.\n",
    "\n",
    "&nbsp;&nbsp;&nbsp;&nbsp;&nbsp;&nbsp;*__Note:__ Unlike Sets, the list may contain mutable elements.*  \n",
    "### **Example 1: Creating a list in Python**"
   ]
  },
  {
   "cell_type": "code",
   "execution_count": 2,
   "id": "b623f1e2-5f02-48a4-9aee-077fa04e9631",
   "metadata": {
    "tags": []
   },
   "outputs": [
    {
     "name": "stdout",
     "output_type": "stream",
     "text": [
      "Output:\n",
      "\n",
      "Blank List: \n",
      "[]\n",
      "\n",
      "List of numbers: \n",
      "[10, 20, 14]\n",
      "\n",
      "List Items: \n",
      "Geeks\n",
      "Geeks\n"
     ]
    }
   ],
   "source": [
    "# Python program to demonstrate\n",
    "# Creation of List\n",
    "\n",
    "print(\"Output:\\n\")\n",
    "\n",
    "# Creating a List\n",
    "List = []\n",
    "print(\"Blank List: \")\n",
    "print(List)\n",
    "\n",
    "# Creating a List of numbers\n",
    "List = [10, 20, 14]\n",
    "print(\"\\nList of numbers: \")\n",
    "print(List)\n",
    "\n",
    "# Creating a List of strings and accessing\n",
    "# using index\n",
    "List = [\"Geeks\", \"For\", \"Geeks\"]\n",
    "print(\"\\nList Items: \")\n",
    "print(List[0])\n",
    "print(List[2])"
   ]
  },
  {
   "cell_type": "markdown",
   "id": "c4eee194-bfea-4606-87f5-15d8c2608ced",
   "metadata": {},
   "source": [
    "**Complexities for Creating Lists**  \n",
    "**Time Complexity:** O(1)\n",
    "\n",
    "**Space Complexity:** O(n)\n",
    "### **Example 2:  Creating a list with multiple distinct or duplicate elements**  \n",
    "A list may contain duplicate values with their distinct positions and hence, multiple distinct or duplicate values can be passed as a sequence at the time of list creation."
   ]
  },
  {
   "cell_type": "code",
   "execution_count": 3,
   "id": "ab4c73df-bf8b-494f-ae4e-88fa0a82fd2c",
   "metadata": {
    "tags": []
   },
   "outputs": [
    {
     "name": "stdout",
     "output_type": "stream",
     "text": [
      "Output:\n",
      "\n",
      "\n",
      "List with the use of Numbers: \n",
      "[1, 2, 4, 4, 3, 3, 3, 6, 5]\n",
      "\n",
      "List with the use of Mixed Values: \n",
      "[1, 2, 'Geeks', 4, 'For', 6, 'Geeks']\n"
     ]
    }
   ],
   "source": [
    "# Creating a List with\n",
    "# the use of Numbers\n",
    "# (Having duplicate values)\n",
    "\n",
    "print(\"Output:\\n\")\n",
    "\n",
    "List = [1, 2, 4, 4, 3, 3, 3, 6, 5]\n",
    "print(\"\\nList with the use of Numbers: \")\n",
    "print(List)\n",
    "\n",
    "# Creating a List with\n",
    "# mixed type of values\n",
    "# (Having numbers and strings)\n",
    "List = [1, 2, 'Geeks', 4, 'For', 6, 'Geeks']\n",
    "print(\"\\nList with the use of Mixed Values: \")\n",
    "print(List)"
   ]
  },
  {
   "cell_type": "markdown",
   "id": "8fc73fcb-e9b7-4c67-999c-f69afc03fa51",
   "metadata": {},
   "source": [
    "<h2 style=\"text-align: center;\"><b>Accessing elements from the List</b></h2>\n",
    "In order to access the list items refer to the index number. Use the index operator [ ] to access an item in a list. The index must be an integer. Nested lists are accessed using nested indexing. \n",
    "\n",
    "### **Example 1: Accessing elements from list**"
   ]
  },
  {
   "cell_type": "code",
   "execution_count": 5,
   "id": "b6f2e531-5862-40d9-97c3-c9f0c45b8dac",
   "metadata": {
    "tags": []
   },
   "outputs": [
    {
     "name": "stdout",
     "output_type": "stream",
     "text": [
      "Output:\n",
      "\n",
      "Accessing a element from the list\n",
      "Geeks\n",
      "Geeks\n"
     ]
    }
   ],
   "source": [
    "# Python program to demonstrate\n",
    "# accessing of element from list\n",
    "\n",
    "print(\"Output:\\n\")\n",
    "\n",
    "# Creating a List with\n",
    "# the use of multiple values\n",
    "List = [\"Geeks\", \"For\", \"Geeks\"]\n",
    "\n",
    "# accessing a element from the\n",
    "# list using index number\n",
    "print(\"Accessing a element from the list\")\n",
    "print(List[0])\n",
    "print(List[2])"
   ]
  },
  {
   "cell_type": "markdown",
   "id": "35f7a7bf-80cf-4a62-b7c0-8fb9a9cec79b",
   "metadata": {},
   "source": [
    "### **Example 2: Accessing elements from a multi-dimensional list**"
   ]
  },
  {
   "cell_type": "code",
   "execution_count": 7,
   "id": "682900ad-5201-46f4-9e0b-ea00eb64efd3",
   "metadata": {
    "tags": []
   },
   "outputs": [
    {
     "name": "stdout",
     "output_type": "stream",
     "text": [
      "Output:\n",
      "\n",
      "Accessing a element from a Multi-Dimensional list\n",
      "For\n",
      "Geeks\n"
     ]
    }
   ],
   "source": [
    "# Creating a Multi-Dimensional List\n",
    "# (By Nesting a list inside a List)\n",
    "List = [['Geeks', 'For'], ['Geeks']]\n",
    "\n",
    "print(\"Output:\\n\")\n",
    "\n",
    "# accessing an element from the\n",
    "# Multi-Dimensional List using\n",
    "# index number\n",
    "print(\"Accessing a element from a Multi-Dimensional list\")\n",
    "print(List[0][1])\n",
    "print(List[1][0])"
   ]
  },
  {
   "cell_type": "markdown",
   "id": "518f55fd-91a3-4d8c-ba82-ac6444b6f6e4",
   "metadata": {},
   "source": [
    "### **Negative indexing**\n",
    "\n",
    "In Python, negative sequence indexes represent positions from the end of the array. Instead of having to compute the offset as in List[len(List)-3], it is enough to just write List[-3]. Negative indexing means beginning from the end, -1 refers to the last item, -2 refers to the second-last item, etc."
   ]
  },
  {
   "cell_type": "code",
   "execution_count": 9,
   "id": "2062611c-6633-4a97-80ac-6841c88c358c",
   "metadata": {
    "tags": []
   },
   "outputs": [
    {
     "name": "stdout",
     "output_type": "stream",
     "text": [
      "Output:\n",
      "\n",
      "Accessing element using negative indexing\n",
      "Geeks\n",
      "For\n"
     ]
    }
   ],
   "source": [
    "List = [1, 2, 'Geeks', 4, 'For', 6, 'Geeks']\n",
    "\n",
    "print(\"Output:\\n\")\n",
    "\n",
    "# accessing an element using\n",
    "# negative indexing\n",
    "print(\"Accessing element using negative indexing\")\n",
    "\n",
    "# print the last element of list\n",
    "print(List[-1])\n",
    "\n",
    "# print the third last element of list\n",
    "print(List[-3])"
   ]
  },
  {
   "cell_type": "markdown",
   "id": "ef1b1149-2277-4e6d-a9e1-8a8779f0bb8a",
   "metadata": {},
   "source": [
    "**Complexities for Accessing elements in a Lists:**  \n",
    "**Time Complexity:** O(1)\n",
    "\n",
    "**Space Complexity:** O(1)\n",
    "\n",
    "<h2 style=\"text-align: center;\"><b>Getting the size of Python list</b></h2>  \n",
    "Python len() is used to get the length of the list."
   ]
  },
  {
   "cell_type": "code",
   "execution_count": 10,
   "id": "1409993f-b4e6-4ab6-a8c9-06f416a5102b",
   "metadata": {
    "tags": []
   },
   "outputs": [
    {
     "name": "stdout",
     "output_type": "stream",
     "text": [
      "Output:\n",
      "\n",
      "0\n",
      "3\n"
     ]
    }
   ],
   "source": [
    "# Creating a List\n",
    "\n",
    "print(\"Output:\\n\")\n",
    "\n",
    "List1 = []\n",
    "print(len(List1))\n",
    "\n",
    "# Creating a List of numbers\n",
    "List2 = [10, 20, 14]\n",
    "print(len(List2))"
   ]
  },
  {
   "cell_type": "markdown",
   "id": "22e6dbf8-b850-48e2-aa61-7344f83d411d",
   "metadata": {},
   "source": [
    "<h2 style=\"text-align: center;\"><b>Taking Input of a Python List</b></h2>  \n",
    "We can take the input of a list of elements as string, integer, float, etc. But the default one is a string.\n",
    "\n",
    "### **Example 1:**"
   ]
  },
  {
   "cell_type": "code",
   "execution_count": 14,
   "id": "8808c8e7-39b4-43f8-9dbf-bc5761b661e9",
   "metadata": {
    "tags": []
   },
   "outputs": [
    {
     "name": "stdout",
     "output_type": "stream",
     "text": [
      "Output:\n",
      "\n"
     ]
    },
    {
     "name": "stdin",
     "output_type": "stream",
     "text": [
      "Enter elements (Space-Separated):  a b c d e\n"
     ]
    },
    {
     "name": "stdout",
     "output_type": "stream",
     "text": [
      "The list is: ['a', 'b', 'c', 'd', 'e']\n"
     ]
    }
   ],
   "source": [
    "# Python program to take space\n",
    "# separated input as a string\n",
    "# split and store it to a list\n",
    "# and print the string list\n",
    "\n",
    "print(\"Output:\\n\")\n",
    "\n",
    "# input the list as string\n",
    "string = input(\"Enter elements (Space-Separated): \")\n",
    "\n",
    "# split the strings and store it to a list\n",
    "lst = string.split()\n",
    "print('The list is:', lst) # printing the list"
   ]
  },
  {
   "cell_type": "markdown",
   "id": "142b9b31-5f67-43fb-9ca0-752f2e327d03",
   "metadata": {},
   "source": [
    "### **Example 2:**"
   ]
  },
  {
   "cell_type": "code",
   "execution_count": 18,
   "id": "99b22403-2944-4aa0-9af2-daea1505c604",
   "metadata": {
    "tags": []
   },
   "outputs": [
    {
     "name": "stdout",
     "output_type": "stream",
     "text": [
      "Output:\n",
      "\n"
     ]
    },
    {
     "name": "stdin",
     "output_type": "stream",
     "text": [
      "Enter the size of list :  3\n",
      "Enter the integer elements: 123 2 3\n"
     ]
    },
    {
     "name": "stdout",
     "output_type": "stream",
     "text": [
      "The list is: [123, 2, 3]\n"
     ]
    }
   ],
   "source": [
    "print(\"Output:\\n\")\n",
    "\n",
    "# input size of the list\n",
    "n = int(input(\"Enter the size of list : \"))\n",
    "# store integers in a list using map,\n",
    "# split and strip functions\n",
    "lst = list(map(int, input(\"Enter the integer elements:\").strip().split()))[:n]\n",
    "\n",
    "# printing the list\n",
    "print('The list is:', lst)"
   ]
  },
  {
   "cell_type": "markdown",
   "id": "a15438c6-ab9c-4bec-bcb2-e16c017bb4a8",
   "metadata": {
    "tags": []
   },
   "source": [
    "<h2 style=\"text-align: center;\"><b>Adding Elements to a Python List</b></h2>  \n",
    "\n",
    "Elements can be added to the List by using the built-in append() function. Only one element at a time can be added to the list by using the append() method, for the addition of multiple elements with the append() method, loops are used. Tuples can also be added to the list with the use of the append method because tuples are immutable. Unlike Sets, Lists can also be added to the existing list with the use of the append() method."
   ]
  },
  {
   "cell_type": "code",
   "execution_count": 20,
   "id": "4d71380a-828b-4185-9330-6a868e0c277a",
   "metadata": {
    "tags": []
   },
   "outputs": [
    {
     "name": "stdout",
     "output_type": "stream",
     "text": [
      "Output:\n",
      "\n",
      "Initial blank List: \n",
      "[]\n",
      "\n",
      "List after Addition of Three elements: \n",
      "[1, 2, 4]\n",
      "\n",
      "List after Addition of elements from 1-3: \n",
      "[1, 2, 4, 1, 2, 3]\n",
      "\n",
      "List after Addition of a Tuple: \n",
      "[1, 2, 4, 1, 2, 3, (5, 6)]\n",
      "\n",
      "List after Addition of a List: \n",
      "[1, 2, 4, 1, 2, 3, (5, 6), ['For', 'Geeks']]\n"
     ]
    }
   ],
   "source": [
    "# Python program to demonstrate\n",
    "# Addition of elements in a List\n",
    "\n",
    "print(\"Output:\\n\")\n",
    "\n",
    "# Creating a List\n",
    "List = []\n",
    "print(\"Initial blank List: \")\n",
    "print(List)\n",
    "\n",
    "# Addition of Elements\n",
    "# in the List\n",
    "List.append(1)\n",
    "List.append(2)\n",
    "List.append(4)\n",
    "print(\"\\nList after Addition of Three elements: \")\n",
    "print(List)\n",
    "\n",
    "# Adding elements to the List\n",
    "# using Iterator\n",
    "for i in range(1, 4):\n",
    "\tList.append(i)\n",
    "print(\"\\nList after Addition of elements from 1-3: \")\n",
    "print(List)\n",
    "\n",
    "# Adding Tuples to the List\n",
    "List.append((5, 6))\n",
    "print(\"\\nList after Addition of a Tuple: \")\n",
    "print(List)\n",
    "\n",
    "# Addition of List to a List\n",
    "List2 = ['For', 'Geeks']\n",
    "List.append(List2)\n",
    "print(\"\\nList after Addition of a List: \")\n",
    "print(List)"
   ]
  },
  {
   "cell_type": "markdown",
   "id": "111c4dbf-0139-440f-a8e4-33955cb1ff7f",
   "metadata": {},
   "source": [
    "**Complexities for Adding elements in a Lists(append() method):**  \n",
    "**Time Complexity:** O(1)\n",
    "\n",
    "**Space Complexity:** O(1)"
   ]
  },
  {
   "cell_type": "markdown",
   "id": "13c9a9aa-f925-4525-af5f-db941201f425",
   "metadata": {},
   "source": [
    "### **Method 2: Using insert() method**\n",
    "\n",
    "append() method only works for the addition of elements at the end of the List, for the addition of elements at the desired position, insert() method is used. Unlike append() which takes only one argument, the insert() method requires two arguments(position, value)."
   ]
  },
  {
   "cell_type": "code",
   "execution_count": 21,
   "id": "02c67d6d-1a03-4b77-919e-1fa547714621",
   "metadata": {
    "tags": []
   },
   "outputs": [
    {
     "name": "stdout",
     "output_type": "stream",
     "text": [
      "Output:\n",
      "\n",
      "Initial List: \n",
      "[1, 2, 3, 4]\n",
      "\n",
      "List after performing Insert Operation: \n",
      "['Geeks', 1, 2, 3, 12, 4]\n"
     ]
    }
   ],
   "source": [
    "# Python program to demonstrate\n",
    "# Addition of elements in a List\n",
    "\n",
    "print(\"Output:\\n\")\n",
    "\n",
    "# Creating a List\n",
    "List = [1,2,3,4]\n",
    "print(\"Initial List: \")\n",
    "print(List)\n",
    "\n",
    "# Addition of Element at\n",
    "# specific Position\n",
    "# (using Insert Method)\n",
    "List.insert(3, 12)\n",
    "List.insert(0, 'Geeks')\n",
    "print(\"\\nList after performing Insert Operation: \")\n",
    "print(List)"
   ]
  },
  {
   "cell_type": "markdown",
   "id": "80cd033c-11b8-4fdf-b973-d4006d4cd184",
   "metadata": {},
   "source": [
    "**Complexities for Adding elements in a Lists(insert() method):**  \n",
    "**Time Complexity:** O(n)\n",
    "\n",
    "**Space Complexity:** O(1)"
   ]
  },
  {
   "cell_type": "markdown",
   "id": "b3544f7c-e856-470c-b53e-a3db8ef2e46e",
   "metadata": {},
   "source": [
    "### **Method 3: Using extend() method**\n",
    "\n",
    "Other than append() and insert() methods, there’s one more method for the Addition of elements, extend(), this method is used to add multiple elements at the same time at the end of the list.\n",
    "\n",
    "&nbsp;&nbsp;&nbsp;&nbsp;&nbsp;&nbsp;*__Note:__ append() and extend() methods can only add elements at the end.*"
   ]
  },
  {
   "cell_type": "code",
   "execution_count": 22,
   "id": "07de145b-7cf9-4153-897f-d9847674b178",
   "metadata": {
    "tags": []
   },
   "outputs": [
    {
     "name": "stdout",
     "output_type": "stream",
     "text": [
      "Output:\n",
      "\n",
      "Initial List: \n",
      "[1, 2, 3, 4]\n",
      "\n",
      "List after performing Extend Operation: \n",
      "[1, 2, 3, 4, 8, 'Geeks', 'Always']\n"
     ]
    }
   ],
   "source": [
    "# Python program to demonstrate\n",
    "# Addition of elements in a List\n",
    "\n",
    "print(\"Output:\\n\")\n",
    "\n",
    "# Creating a List\n",
    "List = [1, 2, 3, 4]\n",
    "print(\"Initial List: \")\n",
    "print(List)\n",
    "\n",
    "# Addition of multiple elements\n",
    "# to the List at the end\n",
    "# (using Extend Method)\n",
    "List.extend([8, 'Geeks', 'Always'])\n",
    "print(\"\\nList after performing Extend Operation: \")\n",
    "print(List)"
   ]
  },
  {
   "cell_type": "markdown",
   "id": "aa2ec86b-ea53-470b-a59d-d482e5abef58",
   "metadata": {},
   "source": [
    "**Complexities for Adding elements in a Lists(extend() method):**  \n",
    "**Time Complexity:** O(n)\n",
    "\n",
    "**Space Complexity:** O(1)"
   ]
  },
  {
   "cell_type": "markdown",
   "id": "25d83eda-0891-4911-a394-c3be14912d9a",
   "metadata": {},
   "source": [
    "<h2 style=\"text-align: center;\"><b>Reversing a List</b></h2>\n",
    "\n",
    "### **Method 1:  A list can be reversed by using the reverse() method in Python.**"
   ]
  },
  {
   "cell_type": "code",
   "execution_count": 23,
   "id": "98250e1d-9a2c-4cd9-befc-2fdbafa426c2",
   "metadata": {
    "tags": []
   },
   "outputs": [
    {
     "name": "stdout",
     "output_type": "stream",
     "text": [
      "Output:\n",
      "\n",
      "['Python', 'Geek', 5, 4, 3, 2, 1]\n"
     ]
    }
   ],
   "source": [
    "# Reversing a list\n",
    "\n",
    "print(\"Output:\\n\")\n",
    "\n",
    "mylist = [1, 2, 3, 4, 5, 'Geek', 'Python']\n",
    "mylist.reverse()\n",
    "print(mylist)"
   ]
  },
  {
   "cell_type": "markdown",
   "id": "8fd9b729-ec9f-485e-ab25-e9c62becccf2",
   "metadata": {},
   "source": [
    "### **Method 2: Using the reversed() function:**\n",
    "\n",
    "The reversed() function returns a reverse iterator, which can be converted to a list using the list() function."
   ]
  },
  {
   "cell_type": "code",
   "execution_count": 24,
   "id": "657d3f1d-b7f4-4f4b-90c9-725d9f45eddc",
   "metadata": {
    "tags": []
   },
   "outputs": [
    {
     "name": "stdout",
     "output_type": "stream",
     "text": [
      "Output:\n",
      "\n",
      "[5, 4, 3, 2, 1]\n"
     ]
    }
   ],
   "source": [
    "print(\"Output:\\n\")\n",
    "\n",
    "my_list = [1, 2, 3, 4, 5]\n",
    "reversed_list = list(reversed(my_list))\n",
    "print(reversed_list)"
   ]
  },
  {
   "cell_type": "markdown",
   "id": "ccf08ccb-52a5-49e9-8324-1b858f73ddf9",
   "metadata": {},
   "source": [
    "<h2 style=\"text-align: center;\"><b>Removing Elements from the List</b></h2>\n",
    "\n",
    "### **Method 1: Using remove() method**\n",
    "\n",
    "Elements can be removed from the List by using the built-in remove() function but an Error arises if the element doesn’t exist in the list. Remove() method only removes one element at a time, to remove a range of elements, the iterator is used. The remove() method removes the specified item.\n",
    "\n",
    "&nbsp;&nbsp;&nbsp;&nbsp;&nbsp;&nbsp;*__Note:__ Remove method in List will only remove the first occurrence of the searched element.*\n",
    "\n",
    "### **Example 1:**"
   ]
  },
  {
   "cell_type": "code",
   "execution_count": 25,
   "id": "46cd2b5b-f21c-4117-8c6b-07ea5cbc44a7",
   "metadata": {
    "tags": []
   },
   "outputs": [
    {
     "name": "stdout",
     "output_type": "stream",
     "text": [
      "Output:\n",
      "\n",
      "Initial List: \n",
      "[1, 2, 3, 4, 5, 6, 7, 8, 9, 10, 11, 12]\n",
      "\n",
      "List after Removal of two elements: \n",
      "[1, 2, 3, 4, 7, 8, 9, 10, 11, 12]\n"
     ]
    }
   ],
   "source": [
    "# Python program to demonstrate\n",
    "# Removal of elements in a List\n",
    "\n",
    "print(\"Output:\\n\")\n",
    "\n",
    "# Creating a List\n",
    "List = [1, 2, 3, 4, 5, 6,\n",
    "\t\t7, 8, 9, 10, 11, 12]\n",
    "print(\"Initial List: \")\n",
    "print(List)\n",
    "\n",
    "# Removing elements from List\n",
    "# using Remove() method\n",
    "List.remove(5)\n",
    "List.remove(6)\n",
    "print(\"\\nList after Removal of two elements: \")\n",
    "print(List)"
   ]
  },
  {
   "cell_type": "markdown",
   "id": "30d9c304-9a98-4f6e-a754-0b1391b1a7b9",
   "metadata": {},
   "source": [
    "### **Example 2:**"
   ]
  },
  {
   "cell_type": "code",
   "execution_count": 26,
   "id": "d99ccc33-5933-42e0-9a11-4548a6f183a0",
   "metadata": {
    "tags": []
   },
   "outputs": [
    {
     "name": "stdout",
     "output_type": "stream",
     "text": [
      "Output:\n",
      "\n",
      "\n",
      "List after Removing a range of elements: \n",
      "[5, 6, 7, 8, 9, 10, 11, 12]\n"
     ]
    }
   ],
   "source": [
    "# Creating a List\n",
    "List = [1, 2, 3, 4, 5, 6,\n",
    "\t\t7, 8, 9, 10, 11, 12]\n",
    "\n",
    "print(\"Output:\\n\")\n",
    "\n",
    "# Removing elements from List\n",
    "# using iterator method\n",
    "for i in range(1, 5):\n",
    "\tList.remove(i)\n",
    "print(\"\\nList after Removing a range of elements: \")\n",
    "print(List)"
   ]
  },
  {
   "cell_type": "markdown",
   "id": "847c404f-8f03-457b-9547-455fb221cbab",
   "metadata": {},
   "source": [
    "**Complexities for Deleting elements in a Lists(remove() method):**  \n",
    "**Time Complexity:** O(n)\n",
    "\n",
    "**Space Complexity:** O(1)\n",
    "\n",
    "### **Method 2: Using pop() method**\n",
    "\n",
    "pop() function can also be used to remove and return an element from the list, but by default it removes only the last element of the list, to remove an element from a specific position of the List, the index of the element is passed as an argument to the pop() method."
   ]
  },
  {
   "cell_type": "code",
   "execution_count": 28,
   "id": "c5aaaf30-f737-4a51-aac8-583dc3dcaaee",
   "metadata": {
    "tags": []
   },
   "outputs": [
    {
     "name": "stdout",
     "output_type": "stream",
     "text": [
      "Output:\n",
      "\n",
      "List after popping an element: \n",
      "[1, 2, 3, 4]\n",
      "\n",
      "List after popping a specific element: \n",
      "[1, 2, 4]\n"
     ]
    }
   ],
   "source": [
    "List = [1, 2, 3, 4, 5]\n",
    "\n",
    "print(\"Output:\\n\")\n",
    "\n",
    "# Removing element from the\n",
    "# Set using the pop() method\n",
    "List.pop()\n",
    "print(\"List after popping an element: \")\n",
    "print(List)\n",
    "\n",
    "# Removing element at a\n",
    "# specific location from the\n",
    "# Set using the pop() method\n",
    "List.pop(2)\n",
    "print(\"\\nList after popping a specific element: \")\n",
    "print(List)"
   ]
  },
  {
   "cell_type": "markdown",
   "id": "cbca93cf-4d9b-4529-aba9-741fff4d3ba0",
   "metadata": {},
   "source": [
    "**Complexities for Deleting elements in a Lists(pop() method):**  \n",
    "**Time Complexity:** O(1)/O(n) (O(1) for removing the last element, O(n) for removing the first and middle elements)\n",
    "\n",
    "**Space Complexity:** O(1)\n",
    "\n",
    "<h2 style=\"text-align: center;\"><b>Slicing of a List</b></h2>\n",
    "\n",
    "We can get substrings and sublists using a slice. In Python List, there are multiple ways to print the whole list with all the elements, but to print a specific range of elements from the list, we use the Slice operation. \n",
    "\n",
    "Slice operation is performed on Lists with the use of a colon(:). \n",
    "\n",
    "**To print elements from beginning to a range use:**\n",
    "\n",
    ">[: Index]\n",
    "\n",
    "To print elements from end-use:\n",
    "\n",
    ">[:-Index]\n",
    "\n",
    "To print elements from a specific Index till the end use \n",
    "\n",
    ">[Index:]\n",
    "\n",
    "To print the whole list in reverse order, use \n",
    "\n",
    ">[::-1]\n",
    "\n",
    "**Note** – To print elements of List from rear-end, use Negative Indexes."
   ]
  },
  {
   "cell_type": "code",
   "execution_count": 3,
   "id": "4b4c51a4-9176-4b6e-b985-6d4931cb7e4e",
   "metadata": {
    "tags": []
   },
   "outputs": [
    {
     "data": {
      "image/jpeg": "[encoded data removed]",
      "text/plain": [
       "<IPython.core.display.Image object>"
      ]
     },
     "metadata": {
      "image/jpeg": {
       "height": 400,
       "width": 800
      }
     },
     "output_type": "display_data"
    }
   ],
   "source": [
    "from IPython.display import display, Image\n",
    "display(Image(filename=\"ListSlicing.jpg\", height=400, width=800))"
   ]
  },
  {
   "cell_type": "markdown",
   "id": "635dd721-8045-4ea7-be1c-604d6c92a52b",
   "metadata": {},
   "source": [
    "**UNDERSTANDING SLICING OF LISTS:**\n",
    "\n",
    "* pr[0] accesses the first item, 2.\n",
    "* pr[-4] accesses the fourth item from the end, 5.\n",
    "* pr[2:] accesses [5, 7, 11, 13], a list of items from third to last.\n",
    "* pr[:4] accesses [2, 3, 5, 7], a list of items from first to fourth.\n",
    "* pr[2:4] accesses [5, 7], a list of items from third to fifth.\n",
    "* pr[1::2] accesses [3, 7, 13], alternate items, starting from the second item."
   ]
  },
  {
   "cell_type": "code",
   "execution_count": 29,
   "id": "dd11c9af-581c-4d77-bada-1fb393c8a1b1",
   "metadata": {
    "tags": []
   },
   "outputs": [
    {
     "name": "stdout",
     "output_type": "stream",
     "text": [
      "Output:\n",
      "\n",
      "Initial List: \n",
      "['G', 'E', 'E', 'K', 'S', 'F', 'O', 'R', 'G', 'E', 'E', 'K', 'S']\n",
      "\n",
      "Slicing elements in a range 3-8: \n",
      "['K', 'S', 'F', 'O', 'R']\n",
      "\n",
      "Elements sliced from 5th element till the end: \n",
      "['F', 'O', 'R', 'G', 'E', 'E', 'K', 'S']\n",
      "\n",
      "Printing all elements using slice operation: \n",
      "['G', 'E', 'E', 'K', 'S', 'F', 'O', 'R', 'G', 'E', 'E', 'K', 'S']\n"
     ]
    }
   ],
   "source": [
    "# Python program to demonstrate\n",
    "# Removal of elements in a List\n",
    "\n",
    "print(\"Output:\\n\")\n",
    "\n",
    "# Creating a List\n",
    "List = ['G', 'E', 'E', 'K', 'S', 'F',\n",
    "\t\t'O', 'R', 'G', 'E', 'E', 'K', 'S']\n",
    "print(\"Initial List: \")\n",
    "print(List)\n",
    "\n",
    "# Print elements of a range\n",
    "# using Slice operation\n",
    "Sliced_List = List[3:8]\n",
    "print(\"\\nSlicing elements in a range 3-8: \")\n",
    "print(Sliced_List)\n",
    "\n",
    "# Print elements from a\n",
    "# pre-defined point to end\n",
    "Sliced_List = List[5:]\n",
    "print(\"\\nElements sliced from 5th \"\n",
    "\t\"element till the end: \")\n",
    "print(Sliced_List)\n",
    "\n",
    "# Printing elements from\n",
    "# beginning till end\n",
    "Sliced_List = List[:]\n",
    "print(\"\\nPrinting all elements using slice operation: \")\n",
    "print(Sliced_List)"
   ]
  },
  {
   "cell_type": "markdown",
   "id": "d6f88962-d759-4880-8dc7-53ed2019c0a5",
   "metadata": {},
   "source": [
    "### **Negative index List slicing**"
   ]
  },
  {
   "cell_type": "code",
   "execution_count": 30,
   "id": "f132976a-4705-4d05-9bb9-f14d11228667",
   "metadata": {
    "tags": []
   },
   "outputs": [
    {
     "name": "stdout",
     "output_type": "stream",
     "text": [
      "Output:\n",
      "\n",
      "Initial List: \n",
      "['G', 'E', 'E', 'K', 'S', 'F', 'O', 'R', 'G', 'E', 'E', 'K', 'S']\n",
      "\n",
      "Elements sliced till 6th element from last: \n",
      "['G', 'E', 'E', 'K', 'S', 'F', 'O']\n",
      "\n",
      "Elements sliced from index -6 to -1\n",
      "['R', 'G', 'E', 'E', 'K']\n",
      "\n",
      "Printing List in reverse: \n",
      "['S', 'K', 'E', 'E', 'G', 'R', 'O', 'F', 'S', 'K', 'E', 'E', 'G']\n"
     ]
    }
   ],
   "source": [
    "print(\"Output:\\n\")\n",
    "\n",
    "# Creating a List\n",
    "List = ['G', 'E', 'E', 'K', 'S', 'F',\n",
    "\t\t'O', 'R', 'G', 'E', 'E', 'K', 'S']\n",
    "print(\"Initial List: \")\n",
    "print(List)\n",
    "\n",
    "# Print elements from beginning\n",
    "# to a pre-defined point using Slice\n",
    "Sliced_List = List[:-6]\n",
    "print(\"\\nElements sliced till 6th element from last: \")\n",
    "print(Sliced_List)\n",
    "\n",
    "# Print elements of a range\n",
    "# using negative index List slicing\n",
    "Sliced_List = List[-6:-1]\n",
    "print(\"\\nElements sliced from index -6 to -1\")\n",
    "print(Sliced_List)\n",
    "\n",
    "# Printing elements in reverse\n",
    "# using Slice operation\n",
    "Sliced_List = List[::-1]\n",
    "print(\"\\nPrinting List in reverse: \")\n",
    "print(Sliced_List)\n"
   ]
  },
  {
   "cell_type": "markdown",
   "id": "d8bd5be6-0fa2-4dd3-9736-a26bfc5269fd",
   "metadata": {},
   "source": [
    "<h2 style=\"text-align: center;\"><b>List Comprehension</b></h2>\n",
    "Python List comprehensions are used for creating new lists from other iterables like tuples, strings, arrays, lists, etc. A list comprehension consists of brackets containing the expression, which is executed for each element along with the for loop to iterate over each element.  "
   ]
  },
  {
   "cell_type": "markdown",
   "id": "84d2a8a3-702c-4539-8f83-8957ebbeb9db",
   "metadata": {},
   "source": [
    "**Syntax:**\n",
    "\n",
    "&nbsp;&nbsp;&nbsp;&nbsp;&nbsp;&nbsp;*newList = [ expression(element) for element in oldList if condition ]*\n",
    "\n",
    "**Example:**"
   ]
  },
  {
   "cell_type": "code",
   "execution_count": 31,
   "id": "0106762e-c98b-40c5-b3e0-5a884dcd995c",
   "metadata": {
    "tags": []
   },
   "outputs": [
    {
     "name": "stdout",
     "output_type": "stream",
     "text": [
      "Output:\n",
      "\n",
      "[1, 9, 25, 49, 81]\n"
     ]
    }
   ],
   "source": [
    "# Python program to demonstrate list\n",
    "# comprehension in Python\n",
    "\n",
    "print(\"Output:\\n\")\n",
    "\n",
    "# below list contains square of all\n",
    "# odd numbers from range 1 to 10\n",
    "odd_square = [x ** 2 for x in range(1, 11) if x % 2 == 1]\n",
    "print(odd_square)"
   ]
  },
  {
   "cell_type": "markdown",
   "id": "fc5d57f7-b42c-4c61-b764-69ec0387a0c9",
   "metadata": {},
   "source": [
    "For better understanding, the above code is similar to as follows: "
   ]
  },
  {
   "cell_type": "code",
   "execution_count": 32,
   "id": "922d1411-7d5f-428d-ada7-119314c69c47",
   "metadata": {
    "tags": []
   },
   "outputs": [
    {
     "name": "stdout",
     "output_type": "stream",
     "text": [
      "Output:\n",
      "\n",
      "[1, 9, 25, 49, 81]\n"
     ]
    }
   ],
   "source": [
    "# for understanding, above generation is same as,\n",
    "\n",
    "print(\"Output:\\n\")\n",
    "\n",
    "odd_square = []\n",
    " \n",
    "for x in range(1, 11):\n",
    "    if x % 2 == 1:\n",
    "        odd_square.append(x**2)\n",
    " \n",
    "print(odd_square)"
   ]
  },
  {
   "cell_type": "markdown",
   "id": "0626d14b-6b72-4eb0-88d6-0c46b6a33be3",
   "metadata": {},
   "source": [
    "<h2 style=\"text-align: center;\"><b>List Methods</b></h2>"
   ]
  },
  {
   "cell_type": "markdown",
   "id": "80ef5f6b-fad2-4793-a7da-f2323d3d9370",
   "metadata": {},
   "source": [
    "| Function | Description |\n",
    "|---------:|:------------|\n",
    "|Append() | Add an element to the end of the list|\n",
    "|Extend() | Add all elements of a list to another list|\n",
    "|Insert() | Insert an item at the defined index|\n",
    "|Remove() | Removes an item from the list|\n",
    "|Clear() | Removes all items from the list|\n",
    "|Index() | Returns the index of the first matched item|\n",
    "|Count() | Returns the count of the number of items passed as an argument|\n",
    "|Sort() | Sort items in a list in ascending order|\n",
    "|Reverse() | Reverse the order of items in the list|\n",
    "|copy() | Returns a copy of the list|\n",
    "|pop() | Removes and returns the item at the specified index. If no index is provided, it removes and returns the last item.|"
   ]
  },
  {
   "cell_type": "markdown",
   "id": "a9da2e38-86c0-4f45-ab0a-7077f4d31764",
   "metadata": {
    "tags": []
   },
   "source": [
    "The operations mentioned above modify the list Itself.\n",
    "\n",
    "<h3 style=\"text-align: center;\"><b>Built-in functions with List</b></h3>\n",
    "\n",
    "| Function | Description |\n",
    "|---------:|:------------|\n",
    "|reduce() | apply a particular function passed in its argument to all of the list elements stores the intermediate result and only returns the final summation value|\n",
    "|sum() | Sums up the numbers in the list|\n",
    "|ord() | Returns an integer representing the Unicode code point of the given Unicode character|\n",
    "|cmp() | This function returns 1 if the first list is “greater” than the second list|\n",
    "|max() | return maximum element of a given list|\n",
    "|min() | return minimum element of a given list|\n",
    "|all() | Returns true if all element is true or if the list is empty|\n",
    "|any() | return true if any element of the list is true. if the list is empty, return false|\n",
    "|len() | Returns length of the list or size of the list|\n",
    "|enumerate() | Returns enumerate object of the list|\n",
    "|accumulate() | apply a particular function passed in its argument to all of the list elements returns a list containing the intermediate results|\n",
    "|filter() | tests if each element of a list is true or not|\n",
    "|map() | returns a list of the results after applying the given function to each item of a given iterable|\n",
    "|lambda() | This function can have any number of arguments but only one expression, which is evaluated and returned.|"
   ]
  },
  {
   "cell_type": "code",
   "execution_count": null,
   "id": "99d901ba-af0a-48eb-b032-5381cdeda7d2",
   "metadata": {},
   "outputs": [],
   "source": []
  }
 ],
 "metadata": {
  "kernelspec": {
   "display_name": "Python 3 (ipykernel)",
   "language": "python",
   "name": "python3"
  },
  "language_info": {
   "codemirror_mode": {
    "name": "ipython",
    "version": 3
   },
   "file_extension": ".py",
   "mimetype": "text/x-python",
   "name": "python",
   "nbconvert_exporter": "python",
   "pygments_lexer": "ipython3",
   "version": "3.9.2"
  }
 },
 "nbformat": 4,
 "nbformat_minor": 5
}
